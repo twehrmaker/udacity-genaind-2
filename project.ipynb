{
 "cells": [
  {
   "cell_type": "markdown",
   "id": "124e5672",
   "metadata": {},
   "source": [
    "# Custom Chatbot Project"
   ]
  },
  {
   "cell_type": "markdown",
   "id": "2a4a94b3",
   "metadata": {},
   "source": [
    "The dataset consists of the wikipedia information about Project 2025, which was first released in 2022 after the training of GPT-3.5."
   ]
  },
  {
   "cell_type": "markdown",
   "id": "a63d4c5f",
   "metadata": {},
   "source": [
    "## Data Wrangling\n",
    "\n",
    "TODO: In the cells below, load your chosen dataset into a `pandas` dataframe with a column named `\"text\"`. This column should contain all of your text data, separated into at least 20 rows."
   ]
  },
  {
   "cell_type": "code",
   "execution_count": null,
   "id": "c69b83a1",
   "metadata": {},
   "outputs": [
    {
     "name": "stdout",
     "output_type": "stream",
     "text": [
      "0.28.0\n"
     ]
    }
   ],
   "source": [
    "import requests\n",
    "import pandas as pd\n",
    "import tiktoken\n",
    "import openai\n",
    "openai.api_base = \"https://openai.vocareum.com/v1\"\n",
    "openai.api_key = \"YOUR API KEY\"\n",
    "\n",
    "from openai.embeddings_utils import get_embedding, distances_from_embeddings\n",
    "\n",
    "print(openai.__version__)"
   ]
  },
  {
   "cell_type": "code",
   "execution_count": 2,
   "id": "bc84a564",
   "metadata": {},
   "outputs": [],
   "source": [
    "overview_req_params = {\n",
    "    \"action\": \"query\",\n",
    "    \"prop\": \"extracts\",\n",
    "    \"titles\": \"Project 2025\",\n",
    "    \"formatversion\": 2,\n",
    "    \"exlimit\": 1,\n",
    "    \"explaintext\": 1,\n",
    "    \"format\": \"json\"\n",
    "}\n",
    "\n",
    "overview_resp = requests.get(\"https://en.wikipedia.org/w/api.php\", params=overview_req_params)"
   ]
  },
  {
   "cell_type": "code",
   "execution_count": 3,
   "id": "c7a22556",
   "metadata": {},
   "outputs": [],
   "source": [
    "overview_resp_dict = overview_resp.json()\n",
    "\n",
    "overview_extract = overview_resp_dict[\"query\"][\"pages\"][0][\"extract\"]\n",
    "extracts = [line for line in overview_extract.split(\"\\n\") if len(line)>1 and not line.startswith(\"==\")]\n"
   ]
  },
  {
   "cell_type": "code",
   "execution_count": 4,
   "id": "d566ff85",
   "metadata": {},
   "outputs": [
    {
     "data": {
      "text/html": [
       "<div>\n",
       "<style scoped>\n",
       "    .dataframe tbody tr th:only-of-type {\n",
       "        vertical-align: middle;\n",
       "    }\n",
       "\n",
       "    .dataframe tbody tr th {\n",
       "        vertical-align: top;\n",
       "    }\n",
       "\n",
       "    .dataframe thead th {\n",
       "        text-align: right;\n",
       "    }\n",
       "</style>\n",
       "<table border=\"1\" class=\"dataframe\">\n",
       "  <thead>\n",
       "    <tr style=\"text-align: right;\">\n",
       "      <th></th>\n",
       "      <th>text</th>\n",
       "    </tr>\n",
       "  </thead>\n",
       "  <tbody>\n",
       "    <tr>\n",
       "      <th>0</th>\n",
       "      <td>Project 2025 (also known as the 2025 President...</td>\n",
       "    </tr>\n",
       "    <tr>\n",
       "      <th>1</th>\n",
       "      <td>The ninth iteration of the Heritage Foundation...</td>\n",
       "    </tr>\n",
       "    <tr>\n",
       "      <th>2</th>\n",
       "      <td>The project calls for merit-based federal civi...</td>\n",
       "    </tr>\n",
       "    <tr>\n",
       "      <th>3</th>\n",
       "      <td>Most of Project 2025's writers and contributor...</td>\n",
       "    </tr>\n",
       "    <tr>\n",
       "      <th>4</th>\n",
       "      <td>The Heritage Foundation, a conservative think ...</td>\n",
       "    </tr>\n",
       "    <tr>\n",
       "      <th>...</th>\n",
       "      <td>...</td>\n",
       "    </tr>\n",
       "    <tr>\n",
       "      <th>159</th>\n",
       "      <td>Project Esther</td>\n",
       "    </tr>\n",
       "    <tr>\n",
       "      <th>160</th>\n",
       "      <td>Official website</td>\n",
       "    </tr>\n",
       "    <tr>\n",
       "      <th>161</th>\n",
       "      <td>\"Admin 2025\" a presentation of the Project 202...</td>\n",
       "    </tr>\n",
       "    <tr>\n",
       "      <th>162</th>\n",
       "      <td>\"Top Project 2025 architect talks conservative...</td>\n",
       "    </tr>\n",
       "    <tr>\n",
       "      <th>163</th>\n",
       "      <td>\"Paul Dans discussing the 2025 Presidential Tr...</td>\n",
       "    </tr>\n",
       "  </tbody>\n",
       "</table>\n",
       "<p>164 rows × 1 columns</p>\n",
       "</div>"
      ],
      "text/plain": [
       "                                                  text\n",
       "0    Project 2025 (also known as the 2025 President...\n",
       "1    The ninth iteration of the Heritage Foundation...\n",
       "2    The project calls for merit-based federal civi...\n",
       "3    Most of Project 2025's writers and contributor...\n",
       "4    The Heritage Foundation, a conservative think ...\n",
       "..                                                 ...\n",
       "159                                     Project Esther\n",
       "160                                  Official website \n",
       "161  \"Admin 2025\" a presentation of the Project 202...\n",
       "162  \"Top Project 2025 architect talks conservative...\n",
       "163  \"Paul Dans discussing the 2025 Presidential Tr...\n",
       "\n",
       "[164 rows x 1 columns]"
      ]
     },
     "execution_count": 4,
     "metadata": {},
     "output_type": "execute_result"
    }
   ],
   "source": [
    "df = pd.DataFrame()\n",
    "df['text'] = extracts\n",
    "df"
   ]
  },
  {
   "cell_type": "code",
   "execution_count": 5,
   "id": "27cc0ae3",
   "metadata": {},
   "outputs": [],
   "source": [
    "EMBEDDING_MODEL_NAME = \"text-embedding-ada-002\"\n",
    "embedding = openai.Embedding.create(model=EMBEDDING_MODEL_NAME, input=df[\"text\"].tolist())"
   ]
  },
  {
   "cell_type": "code",
   "execution_count": 6,
   "id": "e3faa1e3",
   "metadata": {},
   "outputs": [
    {
     "data": {
      "text/plain": [
       "1536"
      ]
     },
     "execution_count": 6,
     "metadata": {},
     "output_type": "execute_result"
    }
   ],
   "source": [
    "len(embedding[\"data\"][0][\"embedding\"])"
   ]
  },
  {
   "cell_type": "code",
   "execution_count": 7,
   "id": "acb3a9fd",
   "metadata": {},
   "outputs": [
    {
     "data": {
      "text/html": [
       "<div>\n",
       "<style scoped>\n",
       "    .dataframe tbody tr th:only-of-type {\n",
       "        vertical-align: middle;\n",
       "    }\n",
       "\n",
       "    .dataframe tbody tr th {\n",
       "        vertical-align: top;\n",
       "    }\n",
       "\n",
       "    .dataframe thead th {\n",
       "        text-align: right;\n",
       "    }\n",
       "</style>\n",
       "<table border=\"1\" class=\"dataframe\">\n",
       "  <thead>\n",
       "    <tr style=\"text-align: right;\">\n",
       "      <th></th>\n",
       "      <th>text</th>\n",
       "      <th>embeddings</th>\n",
       "    </tr>\n",
       "  </thead>\n",
       "  <tbody>\n",
       "    <tr>\n",
       "      <th>0</th>\n",
       "      <td>Project 2025 (also known as the 2025 President...</td>\n",
       "      <td>[-0.030147729441523552, -0.03871603310108185, ...</td>\n",
       "    </tr>\n",
       "    <tr>\n",
       "      <th>1</th>\n",
       "      <td>The ninth iteration of the Heritage Foundation...</td>\n",
       "      <td>[-0.020986000075936317, -0.021598828956484795,...</td>\n",
       "    </tr>\n",
       "    <tr>\n",
       "      <th>2</th>\n",
       "      <td>The project calls for merit-based federal civi...</td>\n",
       "      <td>[-0.024278998374938965, -0.010739050805568695,...</td>\n",
       "    </tr>\n",
       "    <tr>\n",
       "      <th>3</th>\n",
       "      <td>Most of Project 2025's writers and contributor...</td>\n",
       "      <td>[-0.02568434365093708, -0.05058874562382698, -...</td>\n",
       "    </tr>\n",
       "    <tr>\n",
       "      <th>4</th>\n",
       "      <td>The Heritage Foundation, a conservative think ...</td>\n",
       "      <td>[-0.03339548408985138, -0.020173756405711174, ...</td>\n",
       "    </tr>\n",
       "    <tr>\n",
       "      <th>...</th>\n",
       "      <td>...</td>\n",
       "      <td>...</td>\n",
       "    </tr>\n",
       "    <tr>\n",
       "      <th>159</th>\n",
       "      <td>Project Esther</td>\n",
       "      <td>[-0.0025224597193300724, -0.026541264727711678...</td>\n",
       "    </tr>\n",
       "    <tr>\n",
       "      <th>160</th>\n",
       "      <td>Official website</td>\n",
       "      <td>[-0.010165003128349781, -0.005637652240693569,...</td>\n",
       "    </tr>\n",
       "    <tr>\n",
       "      <th>161</th>\n",
       "      <td>\"Admin 2025\" a presentation of the Project 202...</td>\n",
       "      <td>[-0.015709342435002327, -0.02042486146092415, ...</td>\n",
       "    </tr>\n",
       "    <tr>\n",
       "      <th>162</th>\n",
       "      <td>\"Top Project 2025 architect talks conservative...</td>\n",
       "      <td>[-0.023287400603294373, -0.01814079098403454, ...</td>\n",
       "    </tr>\n",
       "    <tr>\n",
       "      <th>163</th>\n",
       "      <td>\"Paul Dans discussing the 2025 Presidential Tr...</td>\n",
       "      <td>[-0.014789515174925327, -0.02257002890110016, ...</td>\n",
       "    </tr>\n",
       "  </tbody>\n",
       "</table>\n",
       "<p>164 rows × 2 columns</p>\n",
       "</div>"
      ],
      "text/plain": [
       "                                                  text  \\\n",
       "0    Project 2025 (also known as the 2025 President...   \n",
       "1    The ninth iteration of the Heritage Foundation...   \n",
       "2    The project calls for merit-based federal civi...   \n",
       "3    Most of Project 2025's writers and contributor...   \n",
       "4    The Heritage Foundation, a conservative think ...   \n",
       "..                                                 ...   \n",
       "159                                     Project Esther   \n",
       "160                                  Official website    \n",
       "161  \"Admin 2025\" a presentation of the Project 202...   \n",
       "162  \"Top Project 2025 architect talks conservative...   \n",
       "163  \"Paul Dans discussing the 2025 Presidential Tr...   \n",
       "\n",
       "                                            embeddings  \n",
       "0    [-0.030147729441523552, -0.03871603310108185, ...  \n",
       "1    [-0.020986000075936317, -0.021598828956484795,...  \n",
       "2    [-0.024278998374938965, -0.010739050805568695,...  \n",
       "3    [-0.02568434365093708, -0.05058874562382698, -...  \n",
       "4    [-0.03339548408985138, -0.020173756405711174, ...  \n",
       "..                                                 ...  \n",
       "159  [-0.0025224597193300724, -0.026541264727711678...  \n",
       "160  [-0.010165003128349781, -0.005637652240693569,...  \n",
       "161  [-0.015709342435002327, -0.02042486146092415, ...  \n",
       "162  [-0.023287400603294373, -0.01814079098403454, ...  \n",
       "163  [-0.014789515174925327, -0.02257002890110016, ...  \n",
       "\n",
       "[164 rows x 2 columns]"
      ]
     },
     "execution_count": 7,
     "metadata": {},
     "output_type": "execute_result"
    }
   ],
   "source": [
    "embeddings = [data[\"embedding\"] for data in embedding[\"data\"]]\n",
    "df[\"embeddings\"] = embeddings\n",
    "df"
   ]
  },
  {
   "cell_type": "markdown",
   "id": "ae769871",
   "metadata": {},
   "source": [
    "## Custom Query Completion\n",
    "\n",
    "TODO: In the cells below, compose a custom query using your chosen dataset and retrieve results from an OpenAI `Completion` model. You may copy and paste any useful code from the course materials."
   ]
  },
  {
   "cell_type": "code",
   "execution_count": 8,
   "id": "582f0656",
   "metadata": {},
   "outputs": [],
   "source": [
    "prompt_template = \"\"\"\n",
    "Anwser the question based on the context below, and if the question can't be answered based on the context, say \"I don't know\"\n",
    "\n",
    "Context:\n",
    "\n",
    "{}\n",
    "\n",
    "---\n",
    "\n",
    "Question: {}\n",
    "Answer:\"\"\""
   ]
  },
  {
   "cell_type": "code",
   "execution_count": 9,
   "id": "fca2b59a",
   "metadata": {},
   "outputs": [],
   "source": [
    "def get_rows_sorted_by_relevance(prompt, df):\n",
    "    prompt_embeddings = get_embedding(prompt, engine=EMBEDDING_MODEL_NAME)\n",
    "\n",
    "    df_copy = df.copy()\n",
    "    df_copy[\"distances\"] = distances_from_embeddings(prompt_embeddings, df_copy[\"embeddings\"].values, distance_metric=\"cosine\")\n",
    "\n",
    "    df_copy = df_copy.sort_values(\"distances\")\n",
    "    return df_copy"
   ]
  },
  {
   "cell_type": "code",
   "execution_count": 10,
   "id": "0342eb44",
   "metadata": {},
   "outputs": [
    {
     "data": {
      "text/html": [
       "<div>\n",
       "<style scoped>\n",
       "    .dataframe tbody tr th:only-of-type {\n",
       "        vertical-align: middle;\n",
       "    }\n",
       "\n",
       "    .dataframe tbody tr th {\n",
       "        vertical-align: top;\n",
       "    }\n",
       "\n",
       "    .dataframe thead th {\n",
       "        text-align: right;\n",
       "    }\n",
       "</style>\n",
       "<table border=\"1\" class=\"dataframe\">\n",
       "  <thead>\n",
       "    <tr style=\"text-align: right;\">\n",
       "      <th></th>\n",
       "      <th>text</th>\n",
       "      <th>embeddings</th>\n",
       "      <th>distances</th>\n",
       "    </tr>\n",
       "  </thead>\n",
       "  <tbody>\n",
       "    <tr>\n",
       "      <th>154</th>\n",
       "      <td>Donald Trump and fascism</td>\n",
       "      <td>[-0.03350825980305672, -0.016422364860773087, ...</td>\n",
       "      <td>0.086432</td>\n",
       "    </tr>\n",
       "    <tr>\n",
       "      <th>155</th>\n",
       "      <td>Hiring and personnel concerns about Donald Trump</td>\n",
       "      <td>[-0.028792042285203934, -0.022012826055288315,...</td>\n",
       "      <td>0.122461</td>\n",
       "    </tr>\n",
       "    <tr>\n",
       "      <th>130</th>\n",
       "      <td>Project 2025 seems to be full of a whole array...</td>\n",
       "      <td>[-0.019907109439373016, -0.01649446226656437, ...</td>\n",
       "      <td>0.155392</td>\n",
       "    </tr>\n",
       "    <tr>\n",
       "      <th>134</th>\n",
       "      <td>Spencer Ackerman and John Nichols in The Natio...</td>\n",
       "      <td>[-0.02807612717151642, -0.028156574815511703, ...</td>\n",
       "      <td>0.160186</td>\n",
       "    </tr>\n",
       "    <tr>\n",
       "      <th>118</th>\n",
       "      <td>Aspects of the project implemented in the firs...</td>\n",
       "      <td>[-0.023910224437713623, -0.028847601264715195,...</td>\n",
       "      <td>0.163993</td>\n",
       "    </tr>\n",
       "    <tr>\n",
       "      <th>...</th>\n",
       "      <td>...</td>\n",
       "      <td>...</td>\n",
       "      <td>...</td>\n",
       "    </tr>\n",
       "    <tr>\n",
       "      <th>106</th>\n",
       "      <td>To prevent teenage pregnancy, Project 2025 adv...</td>\n",
       "      <td>[-0.027568044140934944, -0.00808256957679987, ...</td>\n",
       "      <td>0.260280</td>\n",
       "    </tr>\n",
       "    <tr>\n",
       "      <th>4</th>\n",
       "      <td>The Heritage Foundation, a conservative think ...</td>\n",
       "      <td>[-0.03339548408985138, -0.020173756405711174, ...</td>\n",
       "      <td>0.261955</td>\n",
       "    </tr>\n",
       "    <tr>\n",
       "      <th>97</th>\n",
       "      <td>Project 2025 recommends curtailing the Biparti...</td>\n",
       "      <td>[-0.006110614165663719, -0.004481117241084576,...</td>\n",
       "      <td>0.265858</td>\n",
       "    </tr>\n",
       "    <tr>\n",
       "      <th>122</th>\n",
       "      <td>On February 7, 2025, the National Institutes o...</td>\n",
       "      <td>[-0.006858889013528824, -0.002144216326996684,...</td>\n",
       "      <td>0.276925</td>\n",
       "    </tr>\n",
       "    <tr>\n",
       "      <th>39</th>\n",
       "      <td>Regarding banking regulation, Mandate recommen...</td>\n",
       "      <td>[-0.0170391034334898, -0.0040273056365549564, ...</td>\n",
       "      <td>0.281986</td>\n",
       "    </tr>\n",
       "  </tbody>\n",
       "</table>\n",
       "<p>164 rows × 3 columns</p>\n",
       "</div>"
      ],
      "text/plain": [
       "                                                  text  \\\n",
       "154                           Donald Trump and fascism   \n",
       "155   Hiring and personnel concerns about Donald Trump   \n",
       "130  Project 2025 seems to be full of a whole array...   \n",
       "134  Spencer Ackerman and John Nichols in The Natio...   \n",
       "118  Aspects of the project implemented in the firs...   \n",
       "..                                                 ...   \n",
       "106  To prevent teenage pregnancy, Project 2025 adv...   \n",
       "4    The Heritage Foundation, a conservative think ...   \n",
       "97   Project 2025 recommends curtailing the Biparti...   \n",
       "122  On February 7, 2025, the National Institutes o...   \n",
       "39   Regarding banking regulation, Mandate recommen...   \n",
       "\n",
       "                                            embeddings  distances  \n",
       "154  [-0.03350825980305672, -0.016422364860773087, ...   0.086432  \n",
       "155  [-0.028792042285203934, -0.022012826055288315,...   0.122461  \n",
       "130  [-0.019907109439373016, -0.01649446226656437, ...   0.155392  \n",
       "134  [-0.02807612717151642, -0.028156574815511703, ...   0.160186  \n",
       "118  [-0.023910224437713623, -0.028847601264715195,...   0.163993  \n",
       "..                                                 ...        ...  \n",
       "106  [-0.027568044140934944, -0.00808256957679987, ...   0.260280  \n",
       "4    [-0.03339548408985138, -0.020173756405711174, ...   0.261955  \n",
       "97   [-0.006110614165663719, -0.004481117241084576,...   0.265858  \n",
       "122  [-0.006858889013528824, -0.002144216326996684,...   0.276925  \n",
       "39   [-0.0170391034334898, -0.0040273056365549564, ...   0.281986  \n",
       "\n",
       "[164 rows x 3 columns]"
      ]
     },
     "execution_count": 10,
     "metadata": {},
     "output_type": "execute_result"
    }
   ],
   "source": [
    "get_rows_sorted_by_relevance(\"Donald Trump\", df)"
   ]
  },
  {
   "cell_type": "code",
   "execution_count": 11,
   "id": "ff4b0b6d",
   "metadata": {},
   "outputs": [],
   "source": [
    "def create_prompt(prompt, df):\n",
    "\n",
    "    max_token_count = 2000\n",
    "\n",
    "    tokenizer = tiktoken.get_encoding(\"cl100k_base\")\n",
    "\n",
    "    current_token_count = len(tokenizer.encode(prompt_template)) + len(tokenizer.encode(prompt))\n",
    "\n",
    "    context = []\n",
    "    for text in get_rows_sorted_by_relevance(prompt, df)[\"text\"].values:\n",
    "        text_token_count = len(tokenizer.encode(text))\n",
    "        current_token_count += text_token_count\n",
    "\n",
    "        if current_token_count <= max_token_count:\n",
    "            context.append(text)\n",
    "        else:\n",
    "            break\n",
    "\n",
    "    return prompt_template.format(\"\\n\\n###\\n\\n\".join(context), prompt)"
   ]
  },
  {
   "cell_type": "code",
   "execution_count": 12,
   "id": "8b6e1f75",
   "metadata": {},
   "outputs": [],
   "source": [
    "def send_prompt(prompt):\n",
    "    return openai.Completion.create(\n",
    "        model=\"gpt-3.5-turbo-instruct\",\n",
    "        prompt=create_prompt(prompt, df),\n",
    "        max_tokens=2000\n",
    "    )"
   ]
  },
  {
   "cell_type": "markdown",
   "id": "1783f146",
   "metadata": {},
   "source": [
    "## Custom Performance Demonstration\n",
    "\n",
    "TODO: In the cells below, demonstrate the performance of your custom query using at least 2 questions. For each question, show the answer from a basic `Completion` model query as well as the answer from your custom query."
   ]
  },
  {
   "cell_type": "markdown",
   "id": "4f11fdc0",
   "metadata": {},
   "source": [
    "### Question 1"
   ]
  },
  {
   "cell_type": "code",
   "execution_count": 13,
   "id": "4901c850",
   "metadata": {},
   "outputs": [],
   "source": [
    "prompt1 = \"Which organization is responsible for Project 2025?\""
   ]
  },
  {
   "cell_type": "code",
   "execution_count": 14,
   "id": "bd7a093b",
   "metadata": {},
   "outputs": [
    {
     "data": {
      "text/plain": [
       "'It is not possible to determine which organization is responsible for Project 2025 without more context. Project 2025 could be a project name used by multiple organizations, or it could be a fictitious project.'"
      ]
     },
     "execution_count": 14,
     "metadata": {},
     "output_type": "execute_result"
    }
   ],
   "source": [
    "answer1_before = openai.Completion.create(\n",
    "        model=\"gpt-3.5-turbo-instruct\",\n",
    "        prompt=prompt1,\n",
    "        max_tokens=2000\n",
    "    )[\"choices\"][0][\"text\"].strip()\n",
    "\n",
    "answer1_before"
   ]
  },
  {
   "cell_type": "code",
   "execution_count": 15,
   "id": "ea1e2ca1",
   "metadata": {},
   "outputs": [
    {
     "data": {
      "text/plain": [
       "'The Heritage Foundation.'"
      ]
     },
     "execution_count": 15,
     "metadata": {},
     "output_type": "execute_result"
    }
   ],
   "source": [
    "answer1_after = send_prompt(prompt1)[\"choices\"][0][\"text\"].strip()\n",
    "\n",
    "answer1_after"
   ]
  },
  {
   "cell_type": "markdown",
   "id": "6e86e37c",
   "metadata": {},
   "source": [
    "### Question 2"
   ]
  },
  {
   "cell_type": "code",
   "execution_count": 16,
   "id": "6f646989",
   "metadata": {},
   "outputs": [],
   "source": [
    "prompt2 = \"What is the main ideology behind Project 2025?\""
   ]
  },
  {
   "cell_type": "code",
   "execution_count": 17,
   "id": "d96d9234",
   "metadata": {},
   "outputs": [
    {
     "data": {
      "text/plain": [
       "'The main ideology behind Project 2025 is to actively work towards creating a better and more sustainable future for all individuals, with a particular focus on economic development, social progress, and environmental stewardship. This ideology is based on the belief that by setting specific goals and implementing targeted strategies, significant progress can be made towards achieving a more prosperous and equitable society by the year 2025. The project aims to mobilize and empower individuals, organizations, and governments to take action and make meaningful changes to address pressing global issues and shape a more positive future for the world.'"
      ]
     },
     "execution_count": 17,
     "metadata": {},
     "output_type": "execute_result"
    }
   ],
   "source": [
    "answer2_before = openai.Completion.create(\n",
    "        model=\"gpt-3.5-turbo-instruct\",\n",
    "        prompt=prompt2,\n",
    "        max_tokens=2000\n",
    "    )[\"choices\"][0][\"text\"].strip()\n",
    "\n",
    "answer2_before"
   ]
  },
  {
   "cell_type": "code",
   "execution_count": 18,
   "id": "11c07a54",
   "metadata": {},
   "outputs": [
    {
     "data": {
      "text/plain": [
       "'The main ideology behind Project 2025 is right-wing conservative policies.'"
      ]
     },
     "execution_count": 18,
     "metadata": {},
     "output_type": "execute_result"
    }
   ],
   "source": [
    "answer2_after = send_prompt(prompt2)[\"choices\"][0][\"text\"].strip()\n",
    "\n",
    "answer2_after"
   ]
  }
 ],
 "metadata": {
  "kernelspec": {
   "display_name": ".env",
   "language": "python",
   "name": "python3"
  },
  "language_info": {
   "codemirror_mode": {
    "name": "ipython",
    "version": 3
   },
   "file_extension": ".py",
   "mimetype": "text/x-python",
   "name": "python",
   "nbconvert_exporter": "python",
   "pygments_lexer": "ipython3",
   "version": "3.13.1"
  }
 },
 "nbformat": 4,
 "nbformat_minor": 5
}
